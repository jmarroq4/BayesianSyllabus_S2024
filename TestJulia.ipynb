{
  "cells": [
    {
      "cell_type": "raw",
      "metadata": {},
      "source": [
        "---\n",
        "title: \"Plots Demo\"\n",
        "execute:\n",
        "  enabled: true\n",
        "---"
      ],
      "id": "0fce77a0"
    },
    {
      "cell_type": "markdown",
      "metadata": {},
      "source": [
        "## Parametric Plots\n",
        "\n",
        "Plot function pair (x(u), y(u)). \n",
        "See @fig-parametric for an example.\n"
      ],
      "id": "7618aeb0"
    },
    {
      "cell_type": "code",
      "metadata": {},
      "source": [
        "#| label: fig-parametric\n",
        "#| fig-cap: Parametric Plots\n",
        "\n",
        "using Plots\n",
        "\n",
        "plot(sin, \n",
        "     x->sin(2x), \n",
        "     0, \n",
        "     2π, \n",
        "     leg=false, \n",
        "     fill=(0,:lavender))"
      ],
      "id": "fig-parametric",
      "execution_count": null,
      "outputs": []
    },
    {
      "cell_type": "code",
      "metadata": {},
      "source": [
        "CMDSTAN = homedir() * \"/GitTemp/cmdstan/\"\n",
        "\n",
        "using Stan\n",
        "\n",
        "# simulate\n",
        "n = 100\n",
        "x = randn(n)\n",
        "y = 2*x + randn(n)\n",
        "\n",
        "# fit\n",
        "model = \"\n",
        "data {\n",
        "  int<lower=0> N;\n",
        "  vector[N] x;\n",
        "  vector[N] y;\n",
        "}\n",
        "parameters {\n",
        "  real alpha;\n",
        "  real beta;\n",
        "  real<lower=0> sigma;\n",
        "}\n",
        "model {\n",
        "  y ~ normal(alpha + beta * x, sigma);\n",
        "}\n",
        "\"\n",
        "data = Dict(\"N\" => n, \"x\" => x, \"y\" => y)\n",
        "\n",
        "sm = Stanmodel(name=\"bivmodemo\", model=model)\n",
        "rc = stan_sample(sm, model)\n",
        "\n",
        "if success(rc)\n",
        "  chn = read_samples(sm, :mcmcchains)\n",
        "  chn |> display\n",
        "end\n",
        "\n",
        "\n",
        "#fit = stan(model, data = data, iter = 1000, chains = 1)"
      ],
      "id": "8b304129",
      "execution_count": null,
      "outputs": []
    }
  ],
  "metadata": {
    "kernelspec": {
      "name": "julia-1.10",
      "language": "julia",
      "display_name": "Julia 1.10.2"
    }
  },
  "nbformat": 4,
  "nbformat_minor": 5
}